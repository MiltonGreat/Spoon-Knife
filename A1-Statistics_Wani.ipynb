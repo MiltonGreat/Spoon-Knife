{
 "cells": [
  {
   "cell_type": "markdown",
   "id": "ca2c0c98",
   "metadata": {},
   "source": [
    "# Assignment 1 - Statistics\n",
    "---"
   ]
  },
  {
   "cell_type": "code",
   "execution_count": 1,
   "id": "493d0828-4261-4f5d-926d-c3ef4a746f33",
   "metadata": {
    "tags": []
   },
   "outputs": [],
   "source": [
    "# Imports\n",
    "from scipy import stats\n",
    "import math\n",
    "import random\n",
    "import numpy as np"
   ]
  },
  {
   "cell_type": "markdown",
   "id": "2c7ca9f2-6ef4-465d-b1cf-edfe454d09bd",
   "metadata": {
    "tags": []
   },
   "source": [
    "## Exercise 1: Probability"
   ]
  },
  {
   "cell_type": "markdown",
   "id": "356a353b-78e8-42b7-b778-3c54e7c033e1",
   "metadata": {},
   "source": [
    "### 1.1\n",
    "\n",
    "A company finds that out of every 10 projects, 5 are completed on time, 7 are completed under budget, and 3 are completed both on time and under budget.\n",
    "\n",
    "Given that a project is completed on time, what is the probability that it is under budget?"
   ]
  },
  {
   "cell_type": "code",
   "execution_count": 4,
   "id": "3ff5ad37-007e-42c3-8998-1bd2de51087c",
   "metadata": {
    "tags": []
   },
   "outputs": [
    {
     "name": "stdout",
     "output_type": "stream",
     "text": [
      "The probability that a project is under budget given that it is on time is: 0.60\n"
     ]
    }
   ],
   "source": [
    "# 1.1 Answer\n",
    "# This is a conditional probablity problem \n",
    "projects = 10\n",
    "on_time = 5\n",
    "under_budget = 7\n",
    "on_time_and_under_budget = 3\n",
    "\n",
    "# Probablity that a project is completed on time\n",
    "prob_on_time = on_time / projects\n",
    "\n",
    "# Probability that a project is both on_time and under_budget\n",
    "prob_both = on_time_and_under_budget / projects\n",
    "\n",
    "# Conditional probablity of both probabilities\n",
    "prob_under_budget_given_on_time = prob_both / prob_on_time\n",
    "\n",
    "print(f\"The probability that a project is under budget given that it is on time is: {prob_under_budget_given_on_time:.2f}\")"
   ]
  },
  {
   "cell_type": "markdown",
   "id": "8056aef2-59e3-42fa-b6c2-be3f0d9b6e57",
   "metadata": {},
   "source": [
    "### 1.2\n",
    "\n",
    "Let's consider a group of students participating in two extracurricular activities: music club and sports club. Out of 80 students surveyed:\n",
    "\n",
    "- 40 students are members of the music club.\n",
    "- 60 students are members of the sports club.\n",
    "- 20 students are members of both clubs.\n",
    "\n",
    "If we randomly select a student who is a member of the music club, what is the probability that they are also a member of the sports club?"
   ]
  },
  {
   "cell_type": "code",
   "execution_count": 3,
   "id": "e48ed26d-0f01-4149-ba55-30292099eccc",
   "metadata": {
    "tags": []
   },
   "outputs": [
    {
     "name": "stdout",
     "output_type": "stream",
     "text": [
      "The probability that a person is member of the sports club given that he or she is in the music club: 0.50\n"
     ]
    }
   ],
   "source": [
    "# 1.2 Answer\n",
    " # This is a conditional probablity problem \n",
    "survey = 80\n",
    "music_club = 40\n",
    "sports_club = 60\n",
    "both_music_sports = 20\n",
    "\n",
    "# Probablity music club member\n",
    "prob_music_club = music_club / survey\n",
    "\n",
    "# Probability both music and sports memeber\n",
    "prob_both = both_music_sports / survey\n",
    "\n",
    "# Conditional probablity of both probabilities\n",
    "prob_sports_given_music = prob_both / prob_music_club\n",
    "\n",
    "print(f\"The probability that a person is member of the sports club given that he or she is in the music club: {prob_sports_given_music:.2f}\")"
   ]
  },
  {
   "cell_type": "markdown",
   "id": "bff42824-fedd-49d5-a745-b90f9e3037e0",
   "metadata": {},
   "source": [
    "### 1.3\n",
    "\n",
    "Solve the marbles example from Lecture_1 using Python.\n",
    "Suppose you have a bag containing 3 red marbles and 2 blue marbles. You randomly draw one marble from the bag and then another marble without replacing the first one.\n",
    "\n",
    "What is the probability that the second marble is blue, given that the first marble was red?"
   ]
  },
  {
   "cell_type": "code",
   "execution_count": 4,
   "id": "fce12ac7-c56e-4f5f-bc7e-d2e6ea567c9d",
   "metadata": {
    "tags": []
   },
   "outputs": [
    {
     "name": "stdout",
     "output_type": "stream",
     "text": [
      "The probability the second marble is blue give red is the first: 0.30\n"
     ]
    }
   ],
   "source": [
    "#  1.3 answer\n",
    "red_marbles = 3\n",
    "blue_marbles = 2\n",
    "marbles = 5\n",
    "\n",
    "# Probablities\n",
    "prob_red_marbles = red_marbles / marbles\n",
    "prob_blue_marbles = blue_marbles / (marbles -1)\n",
    "\n",
    "prob_blue_given_red_marbles = prob_blue_marbles * prob_red_marbles\n",
    "\n",
    "print(f\"The probability the second marble is blue give red is the first: {prob_blue_given_red_marbles:.2f}\")"
   ]
  },
  {
   "cell_type": "markdown",
   "id": "3fff454c-29a7-430a-a315-043b833b420a",
   "metadata": {},
   "source": [
    "### 1.4\n",
    "\n",
    "Dangerous fires in Montreal are rare, and only have a 7% likelyhood. Smoke is more common (10%), but 90% of dangerous fires cause smoke.\n",
    "\n",
    "What is the probability of a dangerous fire when there is smoke?"
   ]
  },
  {
   "cell_type": "code",
   "execution_count": 15,
   "id": "52d9651d-1a5b-40c6-8115-bd08752b3166",
   "metadata": {
    "tags": []
   },
   "outputs": [
    {
     "name": "stdout",
     "output_type": "stream",
     "text": [
      "The probability of a dangerous fire given there is smoke is: 0.6300\n"
     ]
    }
   ],
   "source": [
    "# 1.4 answer\n",
    "prob_dangerous_fire = 0.07\n",
    "prob_smoke = 0.10\n",
    "prob_fire = 0.90\n",
    "\n",
    "# Calculate P(A|B) using Bayes Theorem\n",
    "prob_dangerous_fire_given_fire = (prob_fire * prob_dangerous_fire) / prob_smoke\n",
    "\n",
    "print(f\"The probability of a dangerous fire given there is smoke is: {prob_dangerous_fire_given_fire:.4f}\")"
   ]
  },
  {
   "cell_type": "markdown",
   "id": "3116cd95-0d3a-4e02-8e0c-14d8b3f58a5d",
   "metadata": {},
   "source": [
    "### 1.5\n",
    "\n",
    "You are a consultant for a big firm. According to your research, 60% of companies that increased their stock price by more than 5% in the last 5 years replaced their CEO during that period.\n",
    "\n",
    "However, 35% of companies that did not increase their stock price in that same period also replaced their CEO. The probability of stock shares growing by more than 5% is 4%.\n",
    "\n",
    "Given that a company fires its CEO, what is the probability of their stock price increasing by 5%?"
   ]
  },
  {
   "cell_type": "code",
   "execution_count": 14,
   "id": "b1341e5c-8030-4e91-9566-5fdb8fbf3d1d",
   "metadata": {
    "tags": []
   },
   "outputs": [
    {
     "name": "stdout",
     "output_type": "stream",
     "text": [
      "The probability that stock price increased by 5% after replacing a CEO is 0.0667\n"
     ]
    }
   ],
   "source": [
    "# 1.5 Answer\n",
    "new_CEO_stock_increase = 0.60\n",
    "new_CEO_stock_unchanged = 0.35\n",
    "prob_stock_increase = 0.04\n",
    "\n",
    "# Calculate P(B)\n",
    "prob_new_CEO = ((new_CEO_stock_increase * prob_stock_increase) + (new_CEO_stock_unchanged * (1 - prob_stock_increase)))\n",
    "\n",
    "# Calculate P(A|B) using Bayes theorem\n",
    "prob_fired_CEO_stock_increase  = (new_CEO_stock_increase * prob_stock_increase) / prob_new_CEO\n",
    "print(f\"The probability that stock price increased by 5% after replacing a CEO is {prob_fired_CEO_stock_increase :.4f}\")"
   ]
  },
  {
   "cell_type": "markdown",
   "id": "054bd275-2aff-4778-9fe6-2e2e02b1c9c0",
   "metadata": {},
   "source": [
    "### 1.6\n",
    "\n",
    "In a medical clinic specializing in pain management, it is observed that 13% of the patients are prescribed narcotic painkillers. Additionally, it is noted that 6% of all patients visiting the clinic are addicted to narcotics, encompassing both prescription painkillers and illegal substances. \n",
    "\n",
    "Aong all patients prescribed pain pills, 9% are found to be addicts. Given that a patient is identified as an addict, what is the likelihood that they will also be prescribed pain pills?"
   ]
  },
  {
   "cell_type": "code",
   "execution_count": 7,
   "id": "fbe238a6-740f-4717-8a9d-f14901f79117",
   "metadata": {
    "tags": []
   },
   "outputs": [
    {
     "name": "stdout",
     "output_type": "stream",
     "text": [
      "The probability of being prescribed pain pills given that the patient is an addict is: 0.195\n"
     ]
    }
   ],
   "source": [
    "# 1.6 Answer\n",
    "p_given_meds = 0.13\n",
    "p_substance_abuse = 0.06\n",
    "p_substance_abuse_given_meds = 0.09\n",
    "\n",
    "# Applying Bayes Theorem\n",
    "p_meds_given_to_addict = (p_substance_abuse_given_meds * p_given_meds) / p_substance_abuse\n",
    "\n",
    "print(\"The probability of being prescribed pain pills given that the patient is an addict is:\", p_meds_given_to_addict)  "
   ]
  },
  {
   "cell_type": "markdown",
   "id": "f6a56ac7-c203-42d8-97ec-b95f4ec02477",
   "metadata": {},
   "source": [
    "### 1.7\n",
    "\n",
    "We have a model that can predict with 99% accuracy whether a TV show on Webflix will be a hit or not. Given that in reality, only 1% of shows on Webflix become hits, what is the probability that given the model predicting that a show will be a hit, that the show is actually a hit?\n",
    "\n",
    "Create a function `prob` that will calculate the above probability for any given model given the percentage of shows that are hits and the accuracy."
   ]
  },
  {
   "cell_type": "code",
   "execution_count": 16,
   "id": "d5a97752-c6b9-4e5a-9b76-1351c8cd7356",
   "metadata": {
    "tags": []
   },
   "outputs": [
    {
     "name": "stdout",
     "output_type": "stream",
     "text": [
      "The probability that a show is actually a hit given the model predicts it to be a hit is: 0.50\n"
     ]
    }
   ],
   "source": [
    "# 1.7 Answer\n",
    "def prob(hit_show, accuracy):\n",
    "    p_hit_show = hit_show\n",
    "    p_not_hit_show = 1 - p_hit_show\n",
    "    p_given_hit_show = accuracy\n",
    "    p_given_not_hit_show = 1 - p_given_hit_show\n",
    "    \n",
    "    # Applying Bayes Theorem\n",
    "    p_predicts_hit = (p_given_hit_show * hit_show) + (p_given_not_hit_show *  p_not_hit_show)\n",
    "    p_hit_show_given_accuracy = (p_given_hit_show * hit_show) / p_predicts_hit\n",
    "\n",
    "    return p_hit_show_given_accuracy\n",
    "\n",
    "hit_show = 0.01\n",
    "accuracy = 0.99\n",
    "\n",
    "result = prob(hit_show, accuracy)\n",
    "print(f\"The probability that a show is actually a hit given the model predicts it to be a hit is: {result:.2f}\")"
   ]
  },
  {
   "cell_type": "markdown",
   "id": "2182eb1a-fbe3-4a78-952c-069d5d6014a4",
   "metadata": {},
   "source": [
    "## Exercise 2: Hypothesis Testing \n",
    "\n",
    "You work for an I.T Consulting Firm. \n",
    "\n",
    "One of your clients is looking to improve their website performance.\n",
    "\n",
    "Currently, the client's website takes on average 3.18 micro seconds to load with a standard deviation of 0.7 micro seconds. You have worked on the backend server, and after measuring 40 website clicks, you report an average loading time of 2.87 seconds. \n",
    "\n",
    "Assuming a confidence level of 95%:\n",
    "- State the null and alternative hypotheses\n",
    "- What is the test statistic Z?\n",
    "- What is the p-value?\n",
    "- Is there enough evidence to say that the website is indeed faster after the implemented changes?\n",
    "\n",
    "Answer the above questions using Python, rather than doing the calculations manually. You may not use a z-score table to find the p-value, you have to use one of Python's built in methods."
   ]
  },
  {
   "cell_type": "code",
   "execution_count": 19,
   "id": "5e637833-49d4-4286-981c-ea2cc4bee29e",
   "metadata": {
    "scrolled": true,
    "tags": []
   },
   "outputs": [
    {
     "name": "stdout",
     "output_type": "stream",
     "text": [
      "Test statistic (Z): -2.80\n",
      "P-value: 0.0025\n"
     ]
    }
   ],
   "source": [
    "# 2 Answer \n",
    "loading_time = 3.18 \n",
    "standard_deviation = 0.7  \n",
    "websites = 40\n",
    "avg_loading_time = 2.87\n",
    "alpha = 0.05\n",
    "\n",
    "# Null hypothesis: The website's loading time has not improved (mu >= 3.18)\n",
    "# Alternative hypothesis: The website's loading time has improved (mu < 3.18)\n",
    "\n",
    "# Calculate Z-scores\n",
    "Z = (avg_loading_time - loading_time) / (standard_deviation / (websites **0.5))\n",
    "\n",
    "# Calculate the p-values using built-in scipy function\n",
    "p_value = stats.norm.cdf(Z)\n",
    "\n",
    "print(f\"Test statistic (Z): {Z:.2f}\")\n",
    "print(f\"P-value: {p_value:.4f}\")"
   ]
  },
  {
   "cell_type": "code",
   "execution_count": 20,
   "id": "37729c13",
   "metadata": {},
   "outputs": [
    {
     "name": "stdout",
     "output_type": "stream",
     "text": [
      "There is enough evidence to reject the null hypothesis. The website is faster after the implemented changes.\n"
     ]
    }
   ],
   "source": [
    "if p_value < alpha:\n",
    "    print(\"There is enough evidence to reject the null hypothesis. The website is faster after the implemented changes.\")\n",
    "else:\n",
    "    print(\"There is not enough evidence to reject the null hypothesis. The website's loading time has not improved.\")"
   ]
  },
  {
   "cell_type": "markdown",
   "id": "85d42b3e-3c1c-457c-8dd6-efa990c5616e",
   "metadata": {},
   "source": [
    "## Exercise 3\n",
    "\n",
    "Imagine you have a 12 sided die. We want to see how many rolls it takes until the total of the rolls equals 50 or more. \n",
    "\n",
    "Create a function `roll_to_50` that simulates the above experiment. The output of your function should include:\n",
    "1. A list of the numbers rolled in each trial\n",
    "2. The total number of rolls needed to reach 50 or more\n",
    "\n",
    "Your output should like this:\n",
    "\n",
    "`roll_to_50() --- > ([6, 11, 3, 12, 1, 11, 10], 7)`\n",
    "\n",
    "Note: You will likely get different numbers, since you will need to use a Random Number Generator (RNG) for each roll. "
   ]
  },
  {
   "cell_type": "code",
   "execution_count": 20,
   "id": "2450a9e8-9a64-4bb7-9ea5-92f4e95435f1",
   "metadata": {
    "tags": []
   },
   "outputs": [
    {
     "name": "stdout",
     "output_type": "stream",
     "text": [
      "roll_to_50() --- > ([1, 6, 3, 8, 5, 3, 12, 3, 3, 9], 10)\n"
     ]
    }
   ],
   "source": [
    "# 3 Answer\n",
    "def roll_to_50():\n",
    "    rolls = []  \n",
    "    total = 0   \n",
    "    num_rolls = 0  \n",
    "    \n",
    "    while total < 50:\n",
    "        roll = np.random.randint(1, 13)\n",
    "        rolls.append(roll)\n",
    "        total += roll\n",
    "        num_rolls += 1\n",
    "    \n",
    "    return rolls, num_rolls\n",
    "\n",
    "result = roll_to_50()\n",
    "\n",
    "print(f\"roll_to_50() --- > {result}\")"
   ]
  },
  {
   "cell_type": "markdown",
   "id": "9d5fdb5d-66ce-439f-91be-97071bbf1633",
   "metadata": {},
   "source": [
    "## Exercise 4: Bonus\n",
    "\n",
    "Consider a dartboard with a circle of radius $r$ inscribed in a square with side length $2r$.\n",
    "\n",
    "You want to conduct an expirement where you throw a large number of darts at the board.\n",
    "\n",
    "<img src=\"../Data/circle-target.png\" style=\"width: 400px;\">\n",
    "\n",
    "\n",
    " Some of these darts will hit the board within the circle—let’s call this number $N$. Others will hit outside - let'c call this number $M$. If we consider the fraction of darts that land inside the circle:\n",
    " \n",
    "$$f = \\dfrac{N}{N + M}$$\n",
    "\n",
    "Then the value of $f * A$ ($A$ being the area of the square) will approximate the actual area of the circle $\\pi r^2$.\n",
    "\n",
    "Write a function `circle_estimate(radius, trials)` which will estimate the area of a circle by throwing random darts at the square. Each throw can be considered a trial.\n",
    "\n",
    "Your function should return the estimated area of the circle.\n",
    "\n",
    "Test your function with the following parameters to make sure it works when you are done:\n",
    "\n",
    "`circle_estimate(2, 10000)`\n",
    "\n",
    " Print out the estimated area given the above parameters.\n",
    "\n",
    "**Hint:** Generate two random numbers for each dart throw, one for the `x` axis and one for the `y` axis. Use the [Pythagorean Theorem](https://en.wikipedia.org/wiki/Pythagorean_theorem) to determine if the dart lands inside the circle."
   ]
  },
  {
   "cell_type": "code",
   "execution_count": 11,
   "id": "f9f452e9-73d7-4430-9e0b-b7a20373860e",
   "metadata": {
    "tags": []
   },
   "outputs": [],
   "source": [
    "# 4 Answer\n",
    "def circle_estimate(radius, trials):\n",
    "    '''\n",
    "    Insert code here.\n",
    "    Set x and y with generated random numbers\n",
    "    \n",
    "    '''\n",
    "    # Fraction of darts inside circle (forumla given above)\n",
    "    fraction = N / (N + M)\n",
    "    \n",
    "    # Area of square\n",
    "    area = (2 * radius) ** 2\n",
    "    \n",
    "    # Estimated area of circle\n",
    "    estimated_area = fraction * area  \n",
    " \n",
    "    return estimated_area\n",
    "\n",
    "# Test the function with given parameters\n",
    "radius = 2\n",
    "trials = 10000\n",
    "\n",
    "estimated_area = circle_estimate(radius, trials)\n",
    "\n",
    "print(f\"Estimated area of the circle with radius {radius} using {trials} trials: {estimated_area:.4f}\")"
   ]
  },
  {
   "cell_type": "markdown",
   "id": "ab87945c-d812-4769-9702-31c4399a1009",
   "metadata": {},
   "source": [
    "# The End!"
   ]
  },
  {
   "cell_type": "code",
   "execution_count": null,
   "id": "939c389e",
   "metadata": {},
   "outputs": [],
   "source": []
  }
 ],
 "metadata": {
  "kernelspec": {
   "display_name": "Python 3 (ipykernel)",
   "language": "python",
   "name": "python3"
  },
  "language_info": {
   "codemirror_mode": {
    "name": "ipython",
    "version": 3
   },
   "file_extension": ".py",
   "mimetype": "text/x-python",
   "name": "python",
   "nbconvert_exporter": "python",
   "pygments_lexer": "ipython3",
   "version": "3.11.4"
  }
 },
 "nbformat": 4,
 "nbformat_minor": 5
}
